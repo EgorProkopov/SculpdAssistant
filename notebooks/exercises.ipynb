{
 "cells": [
  {
   "cell_type": "code",
   "execution_count": 42,
   "id": "initial_id",
   "metadata": {
    "collapsed": true,
    "ExecuteTime": {
     "end_time": "2025-04-21T10:30:49.474718800Z",
     "start_time": "2025-04-21T10:30:49.296497800Z"
    }
   },
   "outputs": [],
   "source": [
    "import re\n",
    "import pandas as pd"
   ]
  },
  {
   "cell_type": "markdown",
   "source": [
    "# Data"
   ],
   "metadata": {
    "collapsed": false
   },
   "id": "209fc0bcb58b63b2"
  },
  {
   "cell_type": "code",
   "execution_count": 43,
   "outputs": [],
   "source": [
    "df = pd.read_csv(r\"F:\\SCULPD\\SculpdAssistant\\data\\exercises\\sculpd_exercise_processed.csv\")"
   ],
   "metadata": {
    "collapsed": false,
    "ExecuteTime": {
     "end_time": "2025-04-21T10:30:49.480716600Z",
     "start_time": "2025-04-21T10:30:49.320497300Z"
    }
   },
   "id": "2d3741ffcdf56339"
  },
  {
   "cell_type": "code",
   "execution_count": 44,
   "outputs": [
    {
     "data": {
      "text/plain": "                  Exercise Name Equipment Used   Skill Level  \\\n0                  Lat Pulldown  Cable Machine      Beginner   \n1               V-Grip Pulldown  Cable Machine      Beginner   \n2            Supinated Pulldown  Cable Machine      Beginner   \n3        Kneeling Rope Pulldown  Cable Machine  Intermediate   \n4  Kneeling Single Arm Pulldown  Cable Machine  Intermediate   \n\n                          Muscle Groups Targeted (%) Exercise Group Body Part  \n0  Lats 60%, Biceps 20%, Rear Delts 10%, Rhomboid...  Back - Cable       Back  \n1  Lats 55%, Biceps 25%, Rhomboids 15%, Rear Delt...  Back - Cable       Back  \n2  Lats 50%, Biceps 35%, Rhomboids 10%, Rear Delt...  Back - Cable       Back  \n3  Lats 65%, Rear Delts 15%, Teres Major 10%, Bic...  Back - Cable       Back  \n4  Lats 70%, Rear Delts 10%, Teres Major 10%, Bic...  Back - Cable       Back  ",
      "text/html": "<div>\n<style scoped>\n    .dataframe tbody tr th:only-of-type {\n        vertical-align: middle;\n    }\n\n    .dataframe tbody tr th {\n        vertical-align: top;\n    }\n\n    .dataframe thead th {\n        text-align: right;\n    }\n</style>\n<table border=\"1\" class=\"dataframe\">\n  <thead>\n    <tr style=\"text-align: right;\">\n      <th></th>\n      <th>Exercise Name</th>\n      <th>Equipment Used</th>\n      <th>Skill Level</th>\n      <th>Muscle Groups Targeted (%)</th>\n      <th>Exercise Group</th>\n      <th>Body Part</th>\n    </tr>\n  </thead>\n  <tbody>\n    <tr>\n      <th>0</th>\n      <td>Lat Pulldown</td>\n      <td>Cable Machine</td>\n      <td>Beginner</td>\n      <td>Lats 60%, Biceps 20%, Rear Delts 10%, Rhomboid...</td>\n      <td>Back - Cable</td>\n      <td>Back</td>\n    </tr>\n    <tr>\n      <th>1</th>\n      <td>V-Grip Pulldown</td>\n      <td>Cable Machine</td>\n      <td>Beginner</td>\n      <td>Lats 55%, Biceps 25%, Rhomboids 15%, Rear Delt...</td>\n      <td>Back - Cable</td>\n      <td>Back</td>\n    </tr>\n    <tr>\n      <th>2</th>\n      <td>Supinated Pulldown</td>\n      <td>Cable Machine</td>\n      <td>Beginner</td>\n      <td>Lats 50%, Biceps 35%, Rhomboids 10%, Rear Delt...</td>\n      <td>Back - Cable</td>\n      <td>Back</td>\n    </tr>\n    <tr>\n      <th>3</th>\n      <td>Kneeling Rope Pulldown</td>\n      <td>Cable Machine</td>\n      <td>Intermediate</td>\n      <td>Lats 65%, Rear Delts 15%, Teres Major 10%, Bic...</td>\n      <td>Back - Cable</td>\n      <td>Back</td>\n    </tr>\n    <tr>\n      <th>4</th>\n      <td>Kneeling Single Arm Pulldown</td>\n      <td>Cable Machine</td>\n      <td>Intermediate</td>\n      <td>Lats 70%, Rear Delts 10%, Teres Major 10%, Bic...</td>\n      <td>Back - Cable</td>\n      <td>Back</td>\n    </tr>\n  </tbody>\n</table>\n</div>"
     },
     "execution_count": 44,
     "metadata": {},
     "output_type": "execute_result"
    }
   ],
   "source": [
    "df.head()"
   ],
   "metadata": {
    "collapsed": false,
    "ExecuteTime": {
     "end_time": "2025-04-21T10:30:49.482716200Z",
     "start_time": "2025-04-21T10:30:49.389662800Z"
    }
   },
   "id": "e79ee7ea371a5e26"
  },
  {
   "cell_type": "markdown",
   "source": [
    "# Muscle Groups"
   ],
   "metadata": {
    "collapsed": false
   },
   "id": "6c8d0ef3a6370e54"
  },
  {
   "cell_type": "code",
   "execution_count": 45,
   "outputs": [],
   "source": [
    "def parse_muscle(s):\n",
    "    d = {}\n",
    "    for item in s.split(', '):\n",
    "        m = re.match(r'(.+?)\\s+(\\d+)%', item)\n",
    "        if m:\n",
    "            muscle, pct = m.groups()\n",
    "            d[muscle] = int(pct)\n",
    "    return d"
   ],
   "metadata": {
    "collapsed": false,
    "ExecuteTime": {
     "end_time": "2025-04-21T10:30:49.483716200Z",
     "start_time": "2025-04-21T10:30:49.430715100Z"
    }
   },
   "id": "1953b8640e803ad9"
  },
  {
   "cell_type": "code",
   "execution_count": 46,
   "outputs": [
    {
     "data": {
      "text/plain": "0      {'Lats': 60, 'Biceps': 20, 'Rear Delts': 10, '...\n1      {'Lats': 55, 'Biceps': 25, 'Rhomboids': 15, 'R...\n2      {'Lats': 50, 'Biceps': 35, 'Rhomboids': 10, 'R...\n3      {'Lats': 65, 'Rear Delts': 15, 'Teres Major': ...\n4      {'Lats': 70, 'Rear Delts': 10, 'Teres Major': ...\n                             ...                        \n168    {'Rectus Abdominis': 40, 'Transverse Abdominis...\n169    {'Rectus Abdominis': 35, 'Obliques': 50, 'Hip ...\n170    {'Obliques': 60, 'Rectus Abdominis': 30, 'Hip ...\n171    {'Rectus Abdominis': 50, 'Hip Flexors': 40, 'O...\n172    {'Obliques': 55, 'Rectus Abdominis': 25, 'Shou...\nName: Muscle Groups Targeted (%), Length: 173, dtype: object"
     },
     "execution_count": 46,
     "metadata": {},
     "output_type": "execute_result"
    }
   ],
   "source": [
    "muscle_parsed = df['Muscle Groups Targeted (%)'].apply(parse_muscle)\n",
    "muscle_parsed"
   ],
   "metadata": {
    "collapsed": false,
    "ExecuteTime": {
     "end_time": "2025-04-21T10:30:49.576715700Z",
     "start_time": "2025-04-21T10:30:49.477717900Z"
    }
   },
   "id": "605597d482a8cfde"
  },
  {
   "cell_type": "code",
   "execution_count": 47,
   "outputs": [
    {
     "data": {
      "text/plain": "['Lats',\n 'Biceps',\n 'Rear Delts',\n 'Rhomboids',\n 'Teres Major',\n 'Upper Lats',\n 'Mid Lats',\n 'Mid/Lower Lats',\n 'Core',\n 'Lower Lats',\n 'Traps',\n 'Chest',\n 'Mid/Upper Back',\n 'Mid Back',\n 'Upper Chest',\n 'Front Delts',\n 'Serratus',\n 'Lower Chest',\n 'Mid Chest',\n 'Triceps',\n 'Inner Chest',\n 'Triceps (Long Head)',\n 'Lateral Head',\n 'Medial Head',\n 'Triceps (Lateral Head)',\n 'Long Head',\n 'Shoulders',\n 'Triceps (All Heads)',\n 'Triceps (Medial + Long Head)',\n 'Biceps (Long Head)',\n 'Biceps (Short Head)',\n 'Forearms',\n 'Delts',\n 'Biceps (Brachialis)',\n 'Short Head',\n 'Biceps (All Heads)',\n 'Brachialis',\n 'Lateral Delts',\n 'Quads',\n 'Glutes',\n 'Hamstrings',\n 'Calves',\n 'Tibialis Anterior',\n 'Hip Flexors',\n 'Calves (Soleus)',\n 'Calves (Gastrocnemius)',\n 'Adductors',\n 'Glute Medius',\n 'TFL',\n 'Lower Back',\n 'Brachioradialis',\n 'Biceps Brachii',\n 'Wrist Extensors',\n 'Wrist Flexors',\n 'Rectus Abdominis',\n 'Transverse Abdominis',\n 'Obliques',\n 'Back']"
     },
     "execution_count": 47,
     "metadata": {},
     "output_type": "execute_result"
    }
   ],
   "source": [
    "muscles_df = pd.json_normalize(muscle_parsed).fillna(0).astype(int)\n",
    "muscles_df.columns.tolist()"
   ],
   "metadata": {
    "collapsed": false,
    "ExecuteTime": {
     "end_time": "2025-04-21T10:30:49.685458100Z",
     "start_time": "2025-04-21T10:30:49.536713400Z"
    }
   },
   "id": "b74e0291db4e64dd"
  },
  {
   "cell_type": "markdown",
   "source": [
    "# Equipment"
   ],
   "metadata": {
    "collapsed": false
   },
   "id": "f1a6254d7c60c0ba"
  },
  {
   "cell_type": "code",
   "execution_count": 48,
   "outputs": [
    {
     "data": {
      "text/plain": "['Bar Attachment',\n 'Barbell',\n 'Barbell or EZ Bar',\n 'Barbell with Rope',\n 'Bench',\n 'Bench or Standing',\n 'Blocks or Plates',\n 'Bodyweight',\n 'Cable',\n 'Cable Machine',\n 'Cable Machine or Glute Machine',\n 'Chest Fly Machine',\n 'Chest Fly Machine ',\n 'Chest Pad',\n 'Cuffs',\n 'Decline Bench',\n 'Dumbbells',\n 'Dumbbells or Kettlebell',\n 'Elevated Platform',\n 'Flat Bench',\n 'Flat Bench or Knee Support',\n 'Foam Roller',\n 'GHD Machine',\n 'Handles',\n 'Incline Bench',\n 'Kettlebells',\n 'Lat Bar',\n 'Machine',\n 'Machine Curl Station',\n 'Medicine Ball or Dumbbells',\n 'Overhead Tricep Machine',\n 'Parallel Bars',\n 'Plate Loaded Machine',\n 'Plates',\n 'Platform',\n 'Preacher Bench',\n 'Pull-Up Bar',\n 'Pulldown Machine',\n 'Raised Platform or Plates',\n 'Rope',\n 'Rope Attachment',\n 'Row Machine',\n 'Shoulder Press Machine',\n 'Smith Machine',\n 'Smith or Rack Support',\n 'T-Bar Machine or Barbell with V-Handle',\n 'Towel',\n 'Tricep Pushdown Machine',\n 'V-Grip Attachment',\n 'Weight Plate']"
     },
     "execution_count": 48,
     "metadata": {},
     "output_type": "execute_result"
    }
   ],
   "source": [
    "equip_df = df['Equipment Used']\n",
    "equip_df = equip_df.str.get_dummies(sep=', ')\n",
    "equip_df.columns.tolist()"
   ],
   "metadata": {
    "collapsed": false,
    "ExecuteTime": {
     "end_time": "2025-04-21T10:30:49.814454400Z",
     "start_time": "2025-04-21T10:30:49.569713400Z"
    }
   },
   "id": "74cf9b8fe8d2c74f"
  },
  {
   "cell_type": "code",
   "execution_count": 53,
   "outputs": [
    {
     "data": {
      "text/plain": "173"
     },
     "execution_count": 53,
     "metadata": {},
     "output_type": "execute_result"
    }
   ],
   "source": [
    "len(equip_df)"
   ],
   "metadata": {
    "collapsed": false,
    "ExecuteTime": {
     "end_time": "2025-04-21T10:35:18.422918500Z",
     "start_time": "2025-04-21T10:35:18.317328700Z"
    }
   },
   "id": "63ea87d8e08145b1"
  },
  {
   "cell_type": "code",
   "execution_count": 49,
   "outputs": [],
   "source": [
    "available = ['Barbell', 'Cable Machine', 'Dumbbells']"
   ],
   "metadata": {
    "collapsed": false,
    "ExecuteTime": {
     "end_time": "2025-04-21T10:34:35.647700900Z",
     "start_time": "2025-04-21T10:34:35.623701900Z"
    }
   },
   "id": "db26d5cccd5a6d23"
  },
  {
   "cell_type": "code",
   "execution_count": 50,
   "outputs": [
    {
     "data": {
      "text/plain": "['Barbell',\n 'Barbell or EZ Bar',\n 'Barbell with Rope',\n 'Cable Machine',\n 'Cable Machine or Glute Machine',\n 'Dumbbells',\n 'Dumbbells or Kettlebell',\n 'Medicine Ball or Dumbbells',\n 'T-Bar Machine or Barbell with V-Handle']"
     },
     "execution_count": 50,
     "metadata": {},
     "output_type": "execute_result"
    }
   ],
   "source": [
    "matching_cols = [\n",
    "    col for col in equip_df.columns\n",
    "    if any(avail in col for avail in available)\n",
    "]\n",
    "matching_cols"
   ],
   "metadata": {
    "collapsed": false,
    "ExecuteTime": {
     "end_time": "2025-04-21T10:34:35.843701800Z",
     "start_time": "2025-04-21T10:34:35.787699300Z"
    }
   },
   "id": "f1b4effd8bbafb7a"
  },
  {
   "cell_type": "code",
   "execution_count": 54,
   "outputs": [
    {
     "data": {
      "text/plain": "['Bar Attachment',\n 'Barbell',\n 'Barbell or EZ Bar',\n 'Barbell with Rope',\n 'Bench',\n 'Bench or Standing',\n 'Blocks or Plates',\n 'Bodyweight',\n 'Cable',\n 'Cable Machine',\n 'Cable Machine or Glute Machine',\n 'Chest Fly Machine',\n 'Chest Fly Machine ',\n 'Chest Pad',\n 'Cuffs',\n 'Decline Bench',\n 'Dumbbells',\n 'Dumbbells or Kettlebell',\n 'Elevated Platform',\n 'Flat Bench',\n 'Flat Bench or Knee Support',\n 'Foam Roller',\n 'GHD Machine',\n 'Handles',\n 'Incline Bench',\n 'Kettlebells',\n 'Lat Bar',\n 'Machine',\n 'Machine Curl Station',\n 'Medicine Ball or Dumbbells',\n 'Overhead Tricep Machine',\n 'Parallel Bars',\n 'Plate Loaded Machine',\n 'Plates',\n 'Platform',\n 'Preacher Bench',\n 'Pull-Up Bar',\n 'Pulldown Machine',\n 'Raised Platform or Plates',\n 'Rope',\n 'Rope Attachment',\n 'Row Machine',\n 'Shoulder Press Machine',\n 'Smith Machine',\n 'Smith or Rack Support',\n 'T-Bar Machine or Barbell with V-Handle',\n 'Towel',\n 'Tricep Pushdown Machine',\n 'V-Grip Attachment',\n 'Weight Plate']"
     },
     "execution_count": 54,
     "metadata": {},
     "output_type": "execute_result"
    }
   ],
   "source": [
    "filtered_equip_df = equip_df[equip_df[matching_cols].any(axis=1)]\n",
    "filtered_equip_df.columns.tolist()"
   ],
   "metadata": {
    "collapsed": false,
    "ExecuteTime": {
     "end_time": "2025-04-21T10:37:36.055473300Z",
     "start_time": "2025-04-21T10:37:36.030935600Z"
    }
   },
   "id": "d3e395846bff0a00"
  },
  {
   "cell_type": "markdown",
   "source": [
    "# Skill Level"
   ],
   "metadata": {
    "collapsed": false
   },
   "id": "8b21ad5725dbd38a"
  },
  {
   "cell_type": "code",
   "execution_count": 56,
   "outputs": [
    {
     "data": {
      "text/plain": "['Advanced', 'Beginner', 'Intermediate']"
     },
     "execution_count": 56,
     "metadata": {},
     "output_type": "execute_result"
    }
   ],
   "source": [
    "skill_df = df['Skill Level']\n",
    "skill_df = skill_df.str.get_dummies()\n",
    "skill_df.columns.tolist()"
   ],
   "metadata": {
    "collapsed": false,
    "ExecuteTime": {
     "end_time": "2025-04-21T10:51:40.270436Z",
     "start_time": "2025-04-21T10:51:40.231434800Z"
    }
   },
   "id": "8205bb9ddf97e0d2"
  },
  {
   "cell_type": "markdown",
   "source": [
    "# Merge DF"
   ],
   "metadata": {
    "collapsed": false
   },
   "id": "3861544919ff816d"
  },
  {
   "cell_type": "code",
   "execution_count": 39,
   "outputs": [],
   "source": [
    "exercises_name_df = df['Exercise Name']\n",
    "exercises_group_df = df['Exercise Group']\n",
    "exercises_body_pard_df = df['Body Part']"
   ],
   "metadata": {
    "collapsed": false,
    "ExecuteTime": {
     "end_time": "2025-04-21T10:30:33.132659500Z",
     "start_time": "2025-04-21T10:30:32.962185200Z"
    }
   },
   "id": "fa0fef048979a2d8"
  },
  {
   "cell_type": "code",
   "execution_count": 40,
   "outputs": [],
   "source": [
    "new_df = pd.concat([exercises_name_df, exercises_group_df, exercises_body_pard_df, skill_df, equip_df, muscles_df], axis=1)"
   ],
   "metadata": {
    "collapsed": false,
    "ExecuteTime": {
     "end_time": "2025-04-21T10:30:33.264250Z",
     "start_time": "2025-04-21T10:30:32.980191900Z"
    }
   },
   "id": "66ba95611dcff2e6"
  },
  {
   "cell_type": "code",
   "execution_count": 41,
   "outputs": [
    {
     "data": {
      "text/plain": "                    Exercise Name Exercise Group Body Part  Advanced  \\\n0                    Lat Pulldown  Back - Cable       Back         0   \n1                 V-Grip Pulldown  Back - Cable       Back         0   \n2              Supinated Pulldown  Back - Cable       Back         0   \n3          Kneeling Rope Pulldown  Back - Cable       Back         0   \n4    Kneeling Single Arm Pulldown  Back - Cable       Back         0   \n..                            ...            ...       ...       ...   \n168                         Plank           Core      Core         0   \n169                Bicycle Crunch           Core      Core         0   \n170                 Russian Twist           Core      Core         0   \n171             Hanging Leg Raise           Core      Core         1   \n172             Cable Woodchopper           Core      Core         0   \n\n     Beginner  Intermediate  Bar Attachment  Barbell  Barbell or EZ Bar  \\\n0           1             0               0        0                  0   \n1           1             0               0        0                  0   \n2           1             0               0        0                  0   \n3           0             1               0        0                  0   \n4           0             1               0        0                  0   \n..        ...           ...             ...      ...                ...   \n168         1             0               0        0                  0   \n169         0             1               0        0                  0   \n170         0             1               0        0                  0   \n171         0             0               0        0                  0   \n172         0             1               0        0                  0   \n\n     Barbell with Rope  ...  TFL  Lower Back  Brachioradialis  Biceps Brachii  \\\n0                    0  ...    0           0                0               0   \n1                    0  ...    0           0                0               0   \n2                    0  ...    0           0                0               0   \n3                    0  ...    0           0                0               0   \n4                    0  ...    0           0                0               0   \n..                 ...  ...  ...         ...              ...             ...   \n168                  0  ...    0          10                0               0   \n169                  0  ...    0           0                0               0   \n170                  0  ...    0           0                0               0   \n171                  0  ...    0           0                0               0   \n172                  0  ...    0           0                0               0   \n\n     Wrist Extensors  Wrist Flexors  Rectus Abdominis  Transverse Abdominis  \\\n0                  0              0                 0                     0   \n1                  0              0                 0                     0   \n2                  0              0                 0                     0   \n3                  0              0                 0                     0   \n4                  0              0                 0                     0   \n..               ...            ...               ...                   ...   \n168                0              0                40                    30   \n169                0              0                35                     0   \n170                0              0                30                     0   \n171                0              0                50                     0   \n172                0              0                25                     0   \n\n     Obliques  Back  \n0           0     0  \n1           0     0  \n2           0     0  \n3           0     0  \n4           0     0  \n..        ...   ...  \n168        20     0  \n169        50     0  \n170        60     0  \n171        10     0  \n172        55    10  \n\n[173 rows x 114 columns]",
      "text/html": "<div>\n<style scoped>\n    .dataframe tbody tr th:only-of-type {\n        vertical-align: middle;\n    }\n\n    .dataframe tbody tr th {\n        vertical-align: top;\n    }\n\n    .dataframe thead th {\n        text-align: right;\n    }\n</style>\n<table border=\"1\" class=\"dataframe\">\n  <thead>\n    <tr style=\"text-align: right;\">\n      <th></th>\n      <th>Exercise Name</th>\n      <th>Exercise Group</th>\n      <th>Body Part</th>\n      <th>Advanced</th>\n      <th>Beginner</th>\n      <th>Intermediate</th>\n      <th>Bar Attachment</th>\n      <th>Barbell</th>\n      <th>Barbell or EZ Bar</th>\n      <th>Barbell with Rope</th>\n      <th>...</th>\n      <th>TFL</th>\n      <th>Lower Back</th>\n      <th>Brachioradialis</th>\n      <th>Biceps Brachii</th>\n      <th>Wrist Extensors</th>\n      <th>Wrist Flexors</th>\n      <th>Rectus Abdominis</th>\n      <th>Transverse Abdominis</th>\n      <th>Obliques</th>\n      <th>Back</th>\n    </tr>\n  </thead>\n  <tbody>\n    <tr>\n      <th>0</th>\n      <td>Lat Pulldown</td>\n      <td>Back - Cable</td>\n      <td>Back</td>\n      <td>0</td>\n      <td>1</td>\n      <td>0</td>\n      <td>0</td>\n      <td>0</td>\n      <td>0</td>\n      <td>0</td>\n      <td>...</td>\n      <td>0</td>\n      <td>0</td>\n      <td>0</td>\n      <td>0</td>\n      <td>0</td>\n      <td>0</td>\n      <td>0</td>\n      <td>0</td>\n      <td>0</td>\n      <td>0</td>\n    </tr>\n    <tr>\n      <th>1</th>\n      <td>V-Grip Pulldown</td>\n      <td>Back - Cable</td>\n      <td>Back</td>\n      <td>0</td>\n      <td>1</td>\n      <td>0</td>\n      <td>0</td>\n      <td>0</td>\n      <td>0</td>\n      <td>0</td>\n      <td>...</td>\n      <td>0</td>\n      <td>0</td>\n      <td>0</td>\n      <td>0</td>\n      <td>0</td>\n      <td>0</td>\n      <td>0</td>\n      <td>0</td>\n      <td>0</td>\n      <td>0</td>\n    </tr>\n    <tr>\n      <th>2</th>\n      <td>Supinated Pulldown</td>\n      <td>Back - Cable</td>\n      <td>Back</td>\n      <td>0</td>\n      <td>1</td>\n      <td>0</td>\n      <td>0</td>\n      <td>0</td>\n      <td>0</td>\n      <td>0</td>\n      <td>...</td>\n      <td>0</td>\n      <td>0</td>\n      <td>0</td>\n      <td>0</td>\n      <td>0</td>\n      <td>0</td>\n      <td>0</td>\n      <td>0</td>\n      <td>0</td>\n      <td>0</td>\n    </tr>\n    <tr>\n      <th>3</th>\n      <td>Kneeling Rope Pulldown</td>\n      <td>Back - Cable</td>\n      <td>Back</td>\n      <td>0</td>\n      <td>0</td>\n      <td>1</td>\n      <td>0</td>\n      <td>0</td>\n      <td>0</td>\n      <td>0</td>\n      <td>...</td>\n      <td>0</td>\n      <td>0</td>\n      <td>0</td>\n      <td>0</td>\n      <td>0</td>\n      <td>0</td>\n      <td>0</td>\n      <td>0</td>\n      <td>0</td>\n      <td>0</td>\n    </tr>\n    <tr>\n      <th>4</th>\n      <td>Kneeling Single Arm Pulldown</td>\n      <td>Back - Cable</td>\n      <td>Back</td>\n      <td>0</td>\n      <td>0</td>\n      <td>1</td>\n      <td>0</td>\n      <td>0</td>\n      <td>0</td>\n      <td>0</td>\n      <td>...</td>\n      <td>0</td>\n      <td>0</td>\n      <td>0</td>\n      <td>0</td>\n      <td>0</td>\n      <td>0</td>\n      <td>0</td>\n      <td>0</td>\n      <td>0</td>\n      <td>0</td>\n    </tr>\n    <tr>\n      <th>...</th>\n      <td>...</td>\n      <td>...</td>\n      <td>...</td>\n      <td>...</td>\n      <td>...</td>\n      <td>...</td>\n      <td>...</td>\n      <td>...</td>\n      <td>...</td>\n      <td>...</td>\n      <td>...</td>\n      <td>...</td>\n      <td>...</td>\n      <td>...</td>\n      <td>...</td>\n      <td>...</td>\n      <td>...</td>\n      <td>...</td>\n      <td>...</td>\n      <td>...</td>\n      <td>...</td>\n    </tr>\n    <tr>\n      <th>168</th>\n      <td>Plank</td>\n      <td>Core</td>\n      <td>Core</td>\n      <td>0</td>\n      <td>1</td>\n      <td>0</td>\n      <td>0</td>\n      <td>0</td>\n      <td>0</td>\n      <td>0</td>\n      <td>...</td>\n      <td>0</td>\n      <td>10</td>\n      <td>0</td>\n      <td>0</td>\n      <td>0</td>\n      <td>0</td>\n      <td>40</td>\n      <td>30</td>\n      <td>20</td>\n      <td>0</td>\n    </tr>\n    <tr>\n      <th>169</th>\n      <td>Bicycle Crunch</td>\n      <td>Core</td>\n      <td>Core</td>\n      <td>0</td>\n      <td>0</td>\n      <td>1</td>\n      <td>0</td>\n      <td>0</td>\n      <td>0</td>\n      <td>0</td>\n      <td>...</td>\n      <td>0</td>\n      <td>0</td>\n      <td>0</td>\n      <td>0</td>\n      <td>0</td>\n      <td>0</td>\n      <td>35</td>\n      <td>0</td>\n      <td>50</td>\n      <td>0</td>\n    </tr>\n    <tr>\n      <th>170</th>\n      <td>Russian Twist</td>\n      <td>Core</td>\n      <td>Core</td>\n      <td>0</td>\n      <td>0</td>\n      <td>1</td>\n      <td>0</td>\n      <td>0</td>\n      <td>0</td>\n      <td>0</td>\n      <td>...</td>\n      <td>0</td>\n      <td>0</td>\n      <td>0</td>\n      <td>0</td>\n      <td>0</td>\n      <td>0</td>\n      <td>30</td>\n      <td>0</td>\n      <td>60</td>\n      <td>0</td>\n    </tr>\n    <tr>\n      <th>171</th>\n      <td>Hanging Leg Raise</td>\n      <td>Core</td>\n      <td>Core</td>\n      <td>1</td>\n      <td>0</td>\n      <td>0</td>\n      <td>0</td>\n      <td>0</td>\n      <td>0</td>\n      <td>0</td>\n      <td>...</td>\n      <td>0</td>\n      <td>0</td>\n      <td>0</td>\n      <td>0</td>\n      <td>0</td>\n      <td>0</td>\n      <td>50</td>\n      <td>0</td>\n      <td>10</td>\n      <td>0</td>\n    </tr>\n    <tr>\n      <th>172</th>\n      <td>Cable Woodchopper</td>\n      <td>Core</td>\n      <td>Core</td>\n      <td>0</td>\n      <td>0</td>\n      <td>1</td>\n      <td>0</td>\n      <td>0</td>\n      <td>0</td>\n      <td>0</td>\n      <td>...</td>\n      <td>0</td>\n      <td>0</td>\n      <td>0</td>\n      <td>0</td>\n      <td>0</td>\n      <td>0</td>\n      <td>25</td>\n      <td>0</td>\n      <td>55</td>\n      <td>10</td>\n    </tr>\n  </tbody>\n</table>\n<p>173 rows × 114 columns</p>\n</div>"
     },
     "execution_count": 41,
     "metadata": {},
     "output_type": "execute_result"
    }
   ],
   "source": [
    "new_df"
   ],
   "metadata": {
    "collapsed": false,
    "ExecuteTime": {
     "end_time": "2025-04-21T10:30:33.291064200Z",
     "start_time": "2025-04-21T10:30:33.054836600Z"
    }
   },
   "id": "91661951e4be318a"
  },
  {
   "cell_type": "code",
   "execution_count": 41,
   "outputs": [],
   "source": [],
   "metadata": {
    "collapsed": false,
    "ExecuteTime": {
     "end_time": "2025-04-21T10:30:33.295055700Z",
     "start_time": "2025-04-21T10:30:33.098660100Z"
    }
   },
   "id": "94653be5245b5da0"
  }
 ],
 "metadata": {
  "kernelspec": {
   "display_name": "Python 3",
   "language": "python",
   "name": "python3"
  },
  "language_info": {
   "codemirror_mode": {
    "name": "ipython",
    "version": 2
   },
   "file_extension": ".py",
   "mimetype": "text/x-python",
   "name": "python",
   "nbconvert_exporter": "python",
   "pygments_lexer": "ipython2",
   "version": "2.7.6"
  }
 },
 "nbformat": 4,
 "nbformat_minor": 5
}
