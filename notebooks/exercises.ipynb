{
 "cells": [
  {
   "cell_type": "code",
   "execution_count": 86,
   "id": "initial_id",
   "metadata": {
    "collapsed": true,
    "ExecuteTime": {
     "end_time": "2025-04-28T22:16:59.332107300Z",
     "start_time": "2025-04-28T22:16:59.075581800Z"
    }
   },
   "outputs": [],
   "source": [
    "import re\n",
    "import pandas as pd"
   ]
  },
  {
   "cell_type": "markdown",
   "source": [
    "# Data"
   ],
   "metadata": {
    "collapsed": false
   },
   "id": "209fc0bcb58b63b2"
  },
  {
   "cell_type": "code",
   "execution_count": 95,
   "outputs": [],
   "source": [
    "df = pd.read_csv(r\"F:\\SCULPD\\SculpdAssistant\\data\\exercises\\sculpd_exercise_processed.csv\", keep_default_na=False)"
   ],
   "metadata": {
    "collapsed": false,
    "ExecuteTime": {
     "end_time": "2025-04-28T22:43:51.682369800Z",
     "start_time": "2025-04-28T22:43:51.608298Z"
    }
   },
   "id": "2d3741ffcdf56339"
  },
  {
   "cell_type": "code",
   "execution_count": 96,
   "outputs": [
    {
     "data": {
      "text/plain": "                  Exercise Name Equipment Used   Skill Level  \\\n0                  Lat Pulldown  Cable Machine      Beginner   \n1               V-Grip Pulldown  Cable Machine      Beginner   \n2            Supinated Pulldown  Cable Machine      Beginner   \n3        Kneeling Rope Pulldown  Cable Machine  Intermediate   \n4  Kneeling Single Arm Pulldown  Cable Machine  Intermediate   \n\n                          Muscle Groups Targeted (%) Exercise Group Body Part  \n0  Lats 60%, Biceps 20%, Rear Delts 10%, Rhomboid...  Back - Cable       Back  \n1  Lats 55%, Biceps 25%, Rhomboids 15%, Rear Delt...  Back - Cable       Back  \n2  Lats 50%, Biceps 35%, Rhomboids 10%, Rear Delt...  Back - Cable       Back  \n3  Lats 65%, Rear Delts 15%, Teres Major 10%, Bic...  Back - Cable       Back  \n4  Lats 70%, Rear Delts 10%, Teres Major 10%, Bic...  Back - Cable       Back  ",
      "text/html": "<div>\n<style scoped>\n    .dataframe tbody tr th:only-of-type {\n        vertical-align: middle;\n    }\n\n    .dataframe tbody tr th {\n        vertical-align: top;\n    }\n\n    .dataframe thead th {\n        text-align: right;\n    }\n</style>\n<table border=\"1\" class=\"dataframe\">\n  <thead>\n    <tr style=\"text-align: right;\">\n      <th></th>\n      <th>Exercise Name</th>\n      <th>Equipment Used</th>\n      <th>Skill Level</th>\n      <th>Muscle Groups Targeted (%)</th>\n      <th>Exercise Group</th>\n      <th>Body Part</th>\n    </tr>\n  </thead>\n  <tbody>\n    <tr>\n      <th>0</th>\n      <td>Lat Pulldown</td>\n      <td>Cable Machine</td>\n      <td>Beginner</td>\n      <td>Lats 60%, Biceps 20%, Rear Delts 10%, Rhomboid...</td>\n      <td>Back - Cable</td>\n      <td>Back</td>\n    </tr>\n    <tr>\n      <th>1</th>\n      <td>V-Grip Pulldown</td>\n      <td>Cable Machine</td>\n      <td>Beginner</td>\n      <td>Lats 55%, Biceps 25%, Rhomboids 15%, Rear Delt...</td>\n      <td>Back - Cable</td>\n      <td>Back</td>\n    </tr>\n    <tr>\n      <th>2</th>\n      <td>Supinated Pulldown</td>\n      <td>Cable Machine</td>\n      <td>Beginner</td>\n      <td>Lats 50%, Biceps 35%, Rhomboids 10%, Rear Delt...</td>\n      <td>Back - Cable</td>\n      <td>Back</td>\n    </tr>\n    <tr>\n      <th>3</th>\n      <td>Kneeling Rope Pulldown</td>\n      <td>Cable Machine</td>\n      <td>Intermediate</td>\n      <td>Lats 65%, Rear Delts 15%, Teres Major 10%, Bic...</td>\n      <td>Back - Cable</td>\n      <td>Back</td>\n    </tr>\n    <tr>\n      <th>4</th>\n      <td>Kneeling Single Arm Pulldown</td>\n      <td>Cable Machine</td>\n      <td>Intermediate</td>\n      <td>Lats 70%, Rear Delts 10%, Teres Major 10%, Bic...</td>\n      <td>Back - Cable</td>\n      <td>Back</td>\n    </tr>\n  </tbody>\n</table>\n</div>"
     },
     "execution_count": 96,
     "metadata": {},
     "output_type": "execute_result"
    }
   ],
   "source": [
    "df.head()"
   ],
   "metadata": {
    "collapsed": false,
    "ExecuteTime": {
     "end_time": "2025-04-28T22:43:52.031807700Z",
     "start_time": "2025-04-28T22:43:51.867229800Z"
    }
   },
   "id": "e79ee7ea371a5e26"
  },
  {
   "cell_type": "code",
   "execution_count": 97,
   "outputs": [
    {
     "data": {
      "text/plain": "         Exercise Name Equipment Used   Skill Level  \\\n180     Bicycle Crunch           None  Intermediate   \n181      Russian Twist  Medicine Ball  Intermediate   \n182      Russian Twist      Dumbbells  Intermediate   \n183  Hanging Leg Raise    Pull-Up Bar      Advanced   \n184  Cable Woodchopper  Cable Machine  Intermediate   \n\n                            Muscle Groups Targeted (%) Exercise Group  \\\n180  Rectus Abdominis 35%, Obliques 50%, Hip Flexor...           Core   \n181  Obliques 60%, Rectus Abdominis 30%, Hip Flexor...           Core   \n182  Obliques 60%, Rectus Abdominis 30%, Hip Flexor...           Core   \n183  Rectus Abdominis 50%, Hip Flexors 40%, Oblique...           Core   \n184  Obliques 55%, Rectus Abdominis 25%, Shoulders ...           Core   \n\n    Body Part  \n180      Core  \n181      Core  \n182      Core  \n183      Core  \n184      Core  ",
      "text/html": "<div>\n<style scoped>\n    .dataframe tbody tr th:only-of-type {\n        vertical-align: middle;\n    }\n\n    .dataframe tbody tr th {\n        vertical-align: top;\n    }\n\n    .dataframe thead th {\n        text-align: right;\n    }\n</style>\n<table border=\"1\" class=\"dataframe\">\n  <thead>\n    <tr style=\"text-align: right;\">\n      <th></th>\n      <th>Exercise Name</th>\n      <th>Equipment Used</th>\n      <th>Skill Level</th>\n      <th>Muscle Groups Targeted (%)</th>\n      <th>Exercise Group</th>\n      <th>Body Part</th>\n    </tr>\n  </thead>\n  <tbody>\n    <tr>\n      <th>180</th>\n      <td>Bicycle Crunch</td>\n      <td>None</td>\n      <td>Intermediate</td>\n      <td>Rectus Abdominis 35%, Obliques 50%, Hip Flexor...</td>\n      <td>Core</td>\n      <td>Core</td>\n    </tr>\n    <tr>\n      <th>181</th>\n      <td>Russian Twist</td>\n      <td>Medicine Ball</td>\n      <td>Intermediate</td>\n      <td>Obliques 60%, Rectus Abdominis 30%, Hip Flexor...</td>\n      <td>Core</td>\n      <td>Core</td>\n    </tr>\n    <tr>\n      <th>182</th>\n      <td>Russian Twist</td>\n      <td>Dumbbells</td>\n      <td>Intermediate</td>\n      <td>Obliques 60%, Rectus Abdominis 30%, Hip Flexor...</td>\n      <td>Core</td>\n      <td>Core</td>\n    </tr>\n    <tr>\n      <th>183</th>\n      <td>Hanging Leg Raise</td>\n      <td>Pull-Up Bar</td>\n      <td>Advanced</td>\n      <td>Rectus Abdominis 50%, Hip Flexors 40%, Oblique...</td>\n      <td>Core</td>\n      <td>Core</td>\n    </tr>\n    <tr>\n      <th>184</th>\n      <td>Cable Woodchopper</td>\n      <td>Cable Machine</td>\n      <td>Intermediate</td>\n      <td>Obliques 55%, Rectus Abdominis 25%, Shoulders ...</td>\n      <td>Core</td>\n      <td>Core</td>\n    </tr>\n  </tbody>\n</table>\n</div>"
     },
     "execution_count": 97,
     "metadata": {},
     "output_type": "execute_result"
    }
   ],
   "source": [
    "df.tail()"
   ],
   "metadata": {
    "collapsed": false,
    "ExecuteTime": {
     "end_time": "2025-04-28T22:43:52.202238600Z",
     "start_time": "2025-04-28T22:43:52.038806700Z"
    }
   },
   "id": "b085b3acc6b78550"
  },
  {
   "cell_type": "markdown",
   "source": [
    "# Muscle Groups"
   ],
   "metadata": {
    "collapsed": false
   },
   "id": "6c8d0ef3a6370e54"
  },
  {
   "cell_type": "code",
   "execution_count": 89,
   "outputs": [],
   "source": [
    "def parse_muscle(s):\n",
    "    d = {}\n",
    "    for item in s.split(', '):\n",
    "        m = re.match(r'(.+?)\\s+(\\d+)%', item)\n",
    "        if m:\n",
    "            muscle, pct = m.groups()\n",
    "            d[muscle] = int(pct)\n",
    "    return d"
   ],
   "metadata": {
    "collapsed": false,
    "ExecuteTime": {
     "end_time": "2025-04-28T22:16:59.440237900Z",
     "start_time": "2025-04-28T22:16:59.401418600Z"
    }
   },
   "id": "1953b8640e803ad9"
  },
  {
   "cell_type": "code",
   "execution_count": 90,
   "outputs": [
    {
     "data": {
      "text/plain": "0      {'Lats': 60, 'Biceps': 20, 'Rear Delts': 10, '...\n1      {'Lats': 55, 'Biceps': 25, 'Rhomboids': 15, 'R...\n2      {'Lats': 50, 'Biceps': 35, 'Rhomboids': 10, 'R...\n3      {'Lats': 65, 'Rear Delts': 15, 'Teres Major': ...\n4      {'Lats': 70, 'Rear Delts': 10, 'Teres Major': ...\n                             ...                        \n180    {'Rectus Abdominis': 35, 'Obliques': 50, 'Hip ...\n181    {'Obliques': 60, 'Rectus Abdominis': 30, 'Hip ...\n182    {'Obliques': 60, 'Rectus Abdominis': 30, 'Hip ...\n183    {'Rectus Abdominis': 50, 'Hip Flexors': 40, 'O...\n184    {'Obliques': 55, 'Rectus Abdominis': 25, 'Shou...\nName: Muscle Groups Targeted (%), Length: 185, dtype: object"
     },
     "execution_count": 90,
     "metadata": {},
     "output_type": "execute_result"
    }
   ],
   "source": [
    "muscle_parsed = df['Muscle Groups Targeted (%)'].apply(parse_muscle)\n",
    "muscle_parsed"
   ],
   "metadata": {
    "collapsed": false,
    "ExecuteTime": {
     "end_time": "2025-04-28T22:16:59.682599500Z",
     "start_time": "2025-04-28T22:16:59.413924600Z"
    }
   },
   "id": "605597d482a8cfde"
  },
  {
   "cell_type": "code",
   "execution_count": 91,
   "outputs": [
    {
     "data": {
      "text/plain": "['Lats',\n 'Biceps',\n 'Rear Delts',\n 'Rhomboids',\n 'Teres Major',\n 'Upper Lats',\n 'Mid Lats',\n 'Mid/Lower Lats',\n 'Core',\n 'Lower Lats',\n 'Traps',\n 'Chest',\n 'Mid/Upper Back',\n 'Mid Back',\n 'Upper Chest',\n 'Front Delts',\n 'Serratus',\n 'Lower Chest',\n 'Mid Chest',\n 'Triceps',\n 'Inner Chest',\n 'Triceps (Long Head)',\n 'Lateral Head',\n 'Medial Head',\n 'Triceps (Lateral Head)',\n 'Long Head',\n 'Shoulders',\n 'Triceps (All Heads)',\n 'Triceps (Medial + Long Head)',\n 'Biceps (Long Head)',\n 'Biceps (Short Head)',\n 'Forearms',\n 'Delts',\n 'Biceps (Brachialis)',\n 'Short Head',\n 'Biceps (All Heads)',\n 'Brachialis',\n 'Lateral Delts',\n 'Quads',\n 'Glutes',\n 'Hamstrings',\n 'Calves',\n 'Tibialis Anterior',\n 'Hip Flexors',\n 'Calves (Soleus)',\n 'Calves (Gastrocnemius)',\n 'Adductors',\n 'Glute Medius',\n 'TFL',\n 'Lower Back',\n 'Brachioradialis',\n 'Biceps Brachii',\n 'Wrist Extensors',\n 'Wrist Flexors',\n 'Rectus Abdominis',\n 'Transverse Abdominis',\n 'Obliques',\n 'Back']"
     },
     "execution_count": 91,
     "metadata": {},
     "output_type": "execute_result"
    }
   ],
   "source": [
    "muscles_df = pd.json_normalize(muscle_parsed).fillna(0).astype(int)\n",
    "muscles_df.columns.tolist()"
   ],
   "metadata": {
    "collapsed": false,
    "ExecuteTime": {
     "end_time": "2025-04-28T22:16:59.881353800Z",
     "start_time": "2025-04-28T22:16:59.549880400Z"
    }
   },
   "id": "b74e0291db4e64dd"
  },
  {
   "cell_type": "markdown",
   "source": [
    "# Equipment"
   ],
   "metadata": {
    "collapsed": false
   },
   "id": "f1a6254d7c60c0ba"
  },
  {
   "cell_type": "code",
   "execution_count": 92,
   "outputs": [
    {
     "data": {
      "text/plain": "   Bar Attachment  Barbell  Barbell with Rope  Barbell with V-Handle  Bench  \\\n0               0        0                  0                      0      0   \n1               0        0                  0                      0      0   \n2               0        0                  0                      0      0   \n3               0        0                  0                      0      0   \n4               0        0                  0                      0      0   \n5               0        0                  0                      0      0   \n6               0        0                  0                      0      0   \n7               0        0                  0                      0      0   \n8               0        0                  0                      0      0   \n9               0        0                  0                      0      0   \n\n   Blocks  Bodyweight  Cable  Cable Machine  Chest Fly Machine  ...  \\\n0       0           0      0              1                  0  ...   \n1       0           0      0              1                  0  ...   \n2       0           0      0              1                  0  ...   \n3       0           0      0              1                  0  ...   \n4       0           0      0              1                  0  ...   \n5       0           0      0              1                  0  ...   \n6       0           0      0              1                  0  ...   \n7       0           0      0              1                  0  ...   \n8       0           0      0              1                  0  ...   \n9       0           0      0              1                  0  ...   \n\n   Row Machine  Shoulder Press Machine  Smith  Smith Machine  Standing  \\\n0            0                       0      0              0         0   \n1            0                       0      0              0         0   \n2            0                       0      0              0         0   \n3            0                       0      0              0         0   \n4            0                       0      0              0         0   \n5            0                       0      0              0         0   \n6            0                       0      0              0         0   \n7            0                       0      0              0         0   \n8            0                       0      0              0         0   \n9            0                       0      0              0         0   \n\n   T-Bar Machine  Towel  Tricep Pushdown Machine  V-Grip Attachment  \\\n0              0      0                        0                  0   \n1              0      0                        0                  0   \n2              0      0                        0                  0   \n3              0      0                        0                  0   \n4              0      0                        0                  0   \n5              0      0                        0                  0   \n6              0      0                        0                  0   \n7              0      0                        0                  0   \n8              0      0                        0                  0   \n9              0      0                        0                  0   \n\n   Weight Plate  \n0             0  \n1             0  \n2             0  \n3             0  \n4             0  \n5             0  \n6             0  \n7             0  \n8             0  \n9             0  \n\n[10 rows x 52 columns]",
      "text/html": "<div>\n<style scoped>\n    .dataframe tbody tr th:only-of-type {\n        vertical-align: middle;\n    }\n\n    .dataframe tbody tr th {\n        vertical-align: top;\n    }\n\n    .dataframe thead th {\n        text-align: right;\n    }\n</style>\n<table border=\"1\" class=\"dataframe\">\n  <thead>\n    <tr style=\"text-align: right;\">\n      <th></th>\n      <th>Bar Attachment</th>\n      <th>Barbell</th>\n      <th>Barbell with Rope</th>\n      <th>Barbell with V-Handle</th>\n      <th>Bench</th>\n      <th>Blocks</th>\n      <th>Bodyweight</th>\n      <th>Cable</th>\n      <th>Cable Machine</th>\n      <th>Chest Fly Machine</th>\n      <th>...</th>\n      <th>Row Machine</th>\n      <th>Shoulder Press Machine</th>\n      <th>Smith</th>\n      <th>Smith Machine</th>\n      <th>Standing</th>\n      <th>T-Bar Machine</th>\n      <th>Towel</th>\n      <th>Tricep Pushdown Machine</th>\n      <th>V-Grip Attachment</th>\n      <th>Weight Plate</th>\n    </tr>\n  </thead>\n  <tbody>\n    <tr>\n      <th>0</th>\n      <td>0</td>\n      <td>0</td>\n      <td>0</td>\n      <td>0</td>\n      <td>0</td>\n      <td>0</td>\n      <td>0</td>\n      <td>0</td>\n      <td>1</td>\n      <td>0</td>\n      <td>...</td>\n      <td>0</td>\n      <td>0</td>\n      <td>0</td>\n      <td>0</td>\n      <td>0</td>\n      <td>0</td>\n      <td>0</td>\n      <td>0</td>\n      <td>0</td>\n      <td>0</td>\n    </tr>\n    <tr>\n      <th>1</th>\n      <td>0</td>\n      <td>0</td>\n      <td>0</td>\n      <td>0</td>\n      <td>0</td>\n      <td>0</td>\n      <td>0</td>\n      <td>0</td>\n      <td>1</td>\n      <td>0</td>\n      <td>...</td>\n      <td>0</td>\n      <td>0</td>\n      <td>0</td>\n      <td>0</td>\n      <td>0</td>\n      <td>0</td>\n      <td>0</td>\n      <td>0</td>\n      <td>0</td>\n      <td>0</td>\n    </tr>\n    <tr>\n      <th>2</th>\n      <td>0</td>\n      <td>0</td>\n      <td>0</td>\n      <td>0</td>\n      <td>0</td>\n      <td>0</td>\n      <td>0</td>\n      <td>0</td>\n      <td>1</td>\n      <td>0</td>\n      <td>...</td>\n      <td>0</td>\n      <td>0</td>\n      <td>0</td>\n      <td>0</td>\n      <td>0</td>\n      <td>0</td>\n      <td>0</td>\n      <td>0</td>\n      <td>0</td>\n      <td>0</td>\n    </tr>\n    <tr>\n      <th>3</th>\n      <td>0</td>\n      <td>0</td>\n      <td>0</td>\n      <td>0</td>\n      <td>0</td>\n      <td>0</td>\n      <td>0</td>\n      <td>0</td>\n      <td>1</td>\n      <td>0</td>\n      <td>...</td>\n      <td>0</td>\n      <td>0</td>\n      <td>0</td>\n      <td>0</td>\n      <td>0</td>\n      <td>0</td>\n      <td>0</td>\n      <td>0</td>\n      <td>0</td>\n      <td>0</td>\n    </tr>\n    <tr>\n      <th>4</th>\n      <td>0</td>\n      <td>0</td>\n      <td>0</td>\n      <td>0</td>\n      <td>0</td>\n      <td>0</td>\n      <td>0</td>\n      <td>0</td>\n      <td>1</td>\n      <td>0</td>\n      <td>...</td>\n      <td>0</td>\n      <td>0</td>\n      <td>0</td>\n      <td>0</td>\n      <td>0</td>\n      <td>0</td>\n      <td>0</td>\n      <td>0</td>\n      <td>0</td>\n      <td>0</td>\n    </tr>\n    <tr>\n      <th>5</th>\n      <td>0</td>\n      <td>0</td>\n      <td>0</td>\n      <td>0</td>\n      <td>0</td>\n      <td>0</td>\n      <td>0</td>\n      <td>0</td>\n      <td>1</td>\n      <td>0</td>\n      <td>...</td>\n      <td>0</td>\n      <td>0</td>\n      <td>0</td>\n      <td>0</td>\n      <td>0</td>\n      <td>0</td>\n      <td>0</td>\n      <td>0</td>\n      <td>0</td>\n      <td>0</td>\n    </tr>\n    <tr>\n      <th>6</th>\n      <td>0</td>\n      <td>0</td>\n      <td>0</td>\n      <td>0</td>\n      <td>0</td>\n      <td>0</td>\n      <td>0</td>\n      <td>0</td>\n      <td>1</td>\n      <td>0</td>\n      <td>...</td>\n      <td>0</td>\n      <td>0</td>\n      <td>0</td>\n      <td>0</td>\n      <td>0</td>\n      <td>0</td>\n      <td>0</td>\n      <td>0</td>\n      <td>0</td>\n      <td>0</td>\n    </tr>\n    <tr>\n      <th>7</th>\n      <td>0</td>\n      <td>0</td>\n      <td>0</td>\n      <td>0</td>\n      <td>0</td>\n      <td>0</td>\n      <td>0</td>\n      <td>0</td>\n      <td>1</td>\n      <td>0</td>\n      <td>...</td>\n      <td>0</td>\n      <td>0</td>\n      <td>0</td>\n      <td>0</td>\n      <td>0</td>\n      <td>0</td>\n      <td>0</td>\n      <td>0</td>\n      <td>0</td>\n      <td>0</td>\n    </tr>\n    <tr>\n      <th>8</th>\n      <td>0</td>\n      <td>0</td>\n      <td>0</td>\n      <td>0</td>\n      <td>0</td>\n      <td>0</td>\n      <td>0</td>\n      <td>0</td>\n      <td>1</td>\n      <td>0</td>\n      <td>...</td>\n      <td>0</td>\n      <td>0</td>\n      <td>0</td>\n      <td>0</td>\n      <td>0</td>\n      <td>0</td>\n      <td>0</td>\n      <td>0</td>\n      <td>0</td>\n      <td>0</td>\n    </tr>\n    <tr>\n      <th>9</th>\n      <td>0</td>\n      <td>0</td>\n      <td>0</td>\n      <td>0</td>\n      <td>0</td>\n      <td>0</td>\n      <td>0</td>\n      <td>0</td>\n      <td>1</td>\n      <td>0</td>\n      <td>...</td>\n      <td>0</td>\n      <td>0</td>\n      <td>0</td>\n      <td>0</td>\n      <td>0</td>\n      <td>0</td>\n      <td>0</td>\n      <td>0</td>\n      <td>0</td>\n      <td>0</td>\n    </tr>\n  </tbody>\n</table>\n<p>10 rows × 52 columns</p>\n</div>"
     },
     "execution_count": 92,
     "metadata": {},
     "output_type": "execute_result"
    }
   ],
   "source": [
    "equip_df = df['Equipment Used']\n",
    "equip_df = equip_df.str.get_dummies(sep=', ')\n",
    "equip_df.head(10)"
   ],
   "metadata": {
    "collapsed": false,
    "ExecuteTime": {
     "end_time": "2025-04-28T22:16:59.919876400Z",
     "start_time": "2025-04-28T22:16:59.631454300Z"
    }
   },
   "id": "74cf9b8fe8d2c74f"
  },
  {
   "cell_type": "code",
   "execution_count": 93,
   "outputs": [
    {
     "data": {
      "text/plain": "['Bar Attachment',\n 'Barbell',\n 'Barbell with Rope',\n 'Barbell with V-Handle',\n 'Bench',\n 'Blocks',\n 'Bodyweight',\n 'Cable',\n 'Cable Machine',\n 'Chest Fly Machine',\n 'Chest Fly Machine ',\n 'Chest Pad',\n 'Cuffs',\n 'Decline Bench',\n 'Dumbbells',\n 'EZ Bar',\n 'Elevated Platform',\n 'Flat Bench',\n 'Foam Roller',\n 'GHD Machine',\n 'Glute Machine',\n 'Handles',\n 'Incline Bench',\n 'Kettlebell',\n 'Kettlebells',\n 'Knee Support',\n 'Lat Bar',\n 'Machine',\n 'Machine Curl Station',\n 'Medicine Ball',\n 'Overhead Tricep Machine',\n 'Parallel Bars',\n 'Plate Loaded Machine',\n 'Plates',\n 'Platform',\n 'Preacher Bench',\n 'Pull-Up Bar',\n 'Pulldown Machine',\n 'Rack Support',\n 'Raised Platform',\n 'Rope',\n 'Rope Attachment',\n 'Row Machine',\n 'Shoulder Press Machine',\n 'Smith',\n 'Smith Machine',\n 'Standing',\n 'T-Bar Machine',\n 'Towel',\n 'Tricep Pushdown Machine',\n 'V-Grip Attachment',\n 'Weight Plate']"
     },
     "execution_count": 93,
     "metadata": {},
     "output_type": "execute_result"
    }
   ],
   "source": [
    "equip_df.columns.tolist()"
   ],
   "metadata": {
    "collapsed": false,
    "ExecuteTime": {
     "end_time": "2025-04-28T22:16:59.921876100Z",
     "start_time": "2025-04-28T22:16:59.657428300Z"
    }
   },
   "id": "aa6d617fa9d410fd"
  },
  {
   "cell_type": "code",
   "execution_count": 72,
   "outputs": [
    {
     "data": {
      "text/plain": "173"
     },
     "execution_count": 72,
     "metadata": {},
     "output_type": "execute_result"
    }
   ],
   "source": [
    "len(equip_df)"
   ],
   "metadata": {
    "collapsed": false,
    "ExecuteTime": {
     "end_time": "2025-04-28T22:15:24.392729800Z",
     "start_time": "2025-04-28T22:15:24.141494100Z"
    }
   },
   "id": "63ea87d8e08145b1"
  },
  {
   "cell_type": "code",
   "execution_count": 73,
   "outputs": [],
   "source": [
    "available_equipment  = ['Barbell', 'Cable Machine', 'Dumbbells']"
   ],
   "metadata": {
    "collapsed": false,
    "ExecuteTime": {
     "end_time": "2025-04-28T22:15:24.394586400Z",
     "start_time": "2025-04-28T22:15:24.173341Z"
    }
   },
   "id": "db26d5cccd5a6d23"
  },
  {
   "cell_type": "code",
   "execution_count": 74,
   "outputs": [
    {
     "data": {
      "text/plain": "['Barbell',\n 'Barbell or EZ Bar',\n 'Barbell with Rope',\n 'Cable Machine',\n 'Cable Machine or Glute Machine',\n 'Dumbbells',\n 'Dumbbells or Kettlebell',\n 'Medicine Ball or Dumbbells',\n 'T-Bar Machine or Barbell with V-Handle']"
     },
     "execution_count": 74,
     "metadata": {},
     "output_type": "execute_result"
    }
   ],
   "source": [
    "matching_cols = [\n",
    "    col for col in equip_df.columns\n",
    "    if any(avail in col for avail in available_equipment)\n",
    "]\n",
    "matching_cols"
   ],
   "metadata": {
    "collapsed": false,
    "ExecuteTime": {
     "end_time": "2025-04-28T22:15:24.551219500Z",
     "start_time": "2025-04-28T22:15:24.249165Z"
    }
   },
   "id": "f1b4effd8bbafb7a"
  },
  {
   "cell_type": "code",
   "execution_count": 75,
   "outputs": [
    {
     "data": {
      "text/plain": "['Bar Attachment',\n 'Barbell',\n 'Barbell or EZ Bar',\n 'Barbell with Rope',\n 'Bench',\n 'Bench or Standing',\n 'Blocks or Plates',\n 'Bodyweight',\n 'Cable',\n 'Cable Machine',\n 'Cable Machine or Glute Machine',\n 'Chest Fly Machine',\n 'Chest Fly Machine ',\n 'Chest Pad',\n 'Cuffs',\n 'Decline Bench',\n 'Dumbbells',\n 'Dumbbells or Kettlebell',\n 'Elevated Platform',\n 'Flat Bench',\n 'Flat Bench or Knee Support',\n 'Foam Roller',\n 'GHD Machine',\n 'Handles',\n 'Incline Bench',\n 'Kettlebells',\n 'Lat Bar',\n 'Machine',\n 'Machine Curl Station',\n 'Medicine Ball or Dumbbells',\n 'Overhead Tricep Machine',\n 'Parallel Bars',\n 'Plate Loaded Machine',\n 'Plates',\n 'Platform',\n 'Preacher Bench',\n 'Pull-Up Bar',\n 'Pulldown Machine',\n 'Raised Platform or Plates',\n 'Rope',\n 'Rope Attachment',\n 'Row Machine',\n 'Shoulder Press Machine',\n 'Smith Machine',\n 'Smith or Rack Support',\n 'T-Bar Machine or Barbell with V-Handle',\n 'Towel',\n 'Tricep Pushdown Machine',\n 'V-Grip Attachment',\n 'Weight Plate']"
     },
     "execution_count": 75,
     "metadata": {},
     "output_type": "execute_result"
    }
   ],
   "source": [
    "filtered_equip_df = equip_df[equip_df[matching_cols].any(axis=1)]\n",
    "filtered_equip_df.columns.tolist()"
   ],
   "metadata": {
    "collapsed": false,
    "ExecuteTime": {
     "end_time": "2025-04-28T22:15:24.555664200Z",
     "start_time": "2025-04-28T22:15:24.290891200Z"
    }
   },
   "id": "d3e395846bff0a00"
  },
  {
   "cell_type": "code",
   "execution_count": 76,
   "outputs": [],
   "source": [
    "def filter_exercises_by_equipment(equipment_df: pd.DataFrame, available_equipment: list) -> pd.DataFrame:\n",
    "    # Выбираем только те упражнения, где\n",
    "    # все единички стоят на колонках, которые есть в available_equipment\n",
    "    required_equipment = equipment_df.columns\n",
    "\n",
    "    # для каждой строки: смотрим, нет ли 1 в колонках, которых нет в available_equipment\n",
    "    mask = equipment_df.apply(\n",
    "        lambda row: all(\n",
    "            col in available_equipment or row[col] == 0\n",
    "            for col in required_equipment\n",
    "        ),\n",
    "        axis=1\n",
    "    )\n",
    "\n",
    "    return equipment_df[mask]"
   ],
   "metadata": {
    "collapsed": false,
    "ExecuteTime": {
     "end_time": "2025-04-28T22:15:24.577048700Z",
     "start_time": "2025-04-28T22:15:24.341010900Z"
    }
   },
   "id": "95729901455eb5e4"
  },
  {
   "cell_type": "code",
   "execution_count": 77,
   "outputs": [],
   "source": [
    "available_equipment  = [\n",
    "    \"Cable Machine\",\n",
    "    \"Barbells\",\n",
    "    \"Platform\",\n",
    "    \"Barbell\",\n",
    "    \"EZ Bar\"\n",
    "]"
   ],
   "metadata": {
    "collapsed": false,
    "ExecuteTime": {
     "end_time": "2025-04-28T22:15:24.580053500Z",
     "start_time": "2025-04-28T22:15:24.369514600Z"
    }
   },
   "id": "113c6d698c020c03"
  },
  {
   "cell_type": "code",
   "execution_count": 78,
   "outputs": [
    {
     "data": {
      "text/plain": "30"
     },
     "execution_count": 78,
     "metadata": {},
     "output_type": "execute_result"
    }
   ],
   "source": [
    "filtered_equip_df = filter_exercises_by_equipment(equipment_df=equip_df, available_equipment=available_equipment)\n",
    "len(filtered_equip_df)"
   ],
   "metadata": {
    "collapsed": false,
    "ExecuteTime": {
     "end_time": "2025-04-28T22:15:24.677367200Z",
     "start_time": "2025-04-28T22:15:24.381589900Z"
    }
   },
   "id": "3ae6b3f2767766c9"
  },
  {
   "cell_type": "code",
   "execution_count": 79,
   "outputs": [
    {
     "data": {
      "text/plain": "   Bar Attachment  Barbell  Barbell or EZ Bar  Barbell with Rope  Bench  \\\n0               0        0                  0                  0      0   \n1               0        0                  0                  0      0   \n2               0        0                  0                  0      0   \n3               0        0                  0                  0      0   \n4               0        0                  0                  0      0   \n\n   Bench or Standing  Blocks or Plates  Bodyweight  Cable  Cable Machine  ...  \\\n0                  0                 0           0      0              1  ...   \n1                  0                 0           0      0              1  ...   \n2                  0                 0           0      0              1  ...   \n3                  0                 0           0      0              1  ...   \n4                  0                 0           0      0              1  ...   \n\n   Rope Attachment  Row Machine  Shoulder Press Machine  Smith Machine  \\\n0                0            0                       0              0   \n1                0            0                       0              0   \n2                0            0                       0              0   \n3                0            0                       0              0   \n4                0            0                       0              0   \n\n   Smith or Rack Support  T-Bar Machine or Barbell with V-Handle  Towel  \\\n0                      0                                       0      0   \n1                      0                                       0      0   \n2                      0                                       0      0   \n3                      0                                       0      0   \n4                      0                                       0      0   \n\n   Tricep Pushdown Machine  V-Grip Attachment  Weight Plate  \n0                        0                  0             0  \n1                        0                  0             0  \n2                        0                  0             0  \n3                        0                  0             0  \n4                        0                  0             0  \n\n[5 rows x 50 columns]",
      "text/html": "<div>\n<style scoped>\n    .dataframe tbody tr th:only-of-type {\n        vertical-align: middle;\n    }\n\n    .dataframe tbody tr th {\n        vertical-align: top;\n    }\n\n    .dataframe thead th {\n        text-align: right;\n    }\n</style>\n<table border=\"1\" class=\"dataframe\">\n  <thead>\n    <tr style=\"text-align: right;\">\n      <th></th>\n      <th>Bar Attachment</th>\n      <th>Barbell</th>\n      <th>Barbell or EZ Bar</th>\n      <th>Barbell with Rope</th>\n      <th>Bench</th>\n      <th>Bench or Standing</th>\n      <th>Blocks or Plates</th>\n      <th>Bodyweight</th>\n      <th>Cable</th>\n      <th>Cable Machine</th>\n      <th>...</th>\n      <th>Rope Attachment</th>\n      <th>Row Machine</th>\n      <th>Shoulder Press Machine</th>\n      <th>Smith Machine</th>\n      <th>Smith or Rack Support</th>\n      <th>T-Bar Machine or Barbell with V-Handle</th>\n      <th>Towel</th>\n      <th>Tricep Pushdown Machine</th>\n      <th>V-Grip Attachment</th>\n      <th>Weight Plate</th>\n    </tr>\n  </thead>\n  <tbody>\n    <tr>\n      <th>0</th>\n      <td>0</td>\n      <td>0</td>\n      <td>0</td>\n      <td>0</td>\n      <td>0</td>\n      <td>0</td>\n      <td>0</td>\n      <td>0</td>\n      <td>0</td>\n      <td>1</td>\n      <td>...</td>\n      <td>0</td>\n      <td>0</td>\n      <td>0</td>\n      <td>0</td>\n      <td>0</td>\n      <td>0</td>\n      <td>0</td>\n      <td>0</td>\n      <td>0</td>\n      <td>0</td>\n    </tr>\n    <tr>\n      <th>1</th>\n      <td>0</td>\n      <td>0</td>\n      <td>0</td>\n      <td>0</td>\n      <td>0</td>\n      <td>0</td>\n      <td>0</td>\n      <td>0</td>\n      <td>0</td>\n      <td>1</td>\n      <td>...</td>\n      <td>0</td>\n      <td>0</td>\n      <td>0</td>\n      <td>0</td>\n      <td>0</td>\n      <td>0</td>\n      <td>0</td>\n      <td>0</td>\n      <td>0</td>\n      <td>0</td>\n    </tr>\n    <tr>\n      <th>2</th>\n      <td>0</td>\n      <td>0</td>\n      <td>0</td>\n      <td>0</td>\n      <td>0</td>\n      <td>0</td>\n      <td>0</td>\n      <td>0</td>\n      <td>0</td>\n      <td>1</td>\n      <td>...</td>\n      <td>0</td>\n      <td>0</td>\n      <td>0</td>\n      <td>0</td>\n      <td>0</td>\n      <td>0</td>\n      <td>0</td>\n      <td>0</td>\n      <td>0</td>\n      <td>0</td>\n    </tr>\n    <tr>\n      <th>3</th>\n      <td>0</td>\n      <td>0</td>\n      <td>0</td>\n      <td>0</td>\n      <td>0</td>\n      <td>0</td>\n      <td>0</td>\n      <td>0</td>\n      <td>0</td>\n      <td>1</td>\n      <td>...</td>\n      <td>0</td>\n      <td>0</td>\n      <td>0</td>\n      <td>0</td>\n      <td>0</td>\n      <td>0</td>\n      <td>0</td>\n      <td>0</td>\n      <td>0</td>\n      <td>0</td>\n    </tr>\n    <tr>\n      <th>4</th>\n      <td>0</td>\n      <td>0</td>\n      <td>0</td>\n      <td>0</td>\n      <td>0</td>\n      <td>0</td>\n      <td>0</td>\n      <td>0</td>\n      <td>0</td>\n      <td>1</td>\n      <td>...</td>\n      <td>0</td>\n      <td>0</td>\n      <td>0</td>\n      <td>0</td>\n      <td>0</td>\n      <td>0</td>\n      <td>0</td>\n      <td>0</td>\n      <td>0</td>\n      <td>0</td>\n    </tr>\n  </tbody>\n</table>\n<p>5 rows × 50 columns</p>\n</div>"
     },
     "execution_count": 79,
     "metadata": {},
     "output_type": "execute_result"
    }
   ],
   "source": [
    "filtered_equip_df.head()"
   ],
   "metadata": {
    "collapsed": false,
    "ExecuteTime": {
     "end_time": "2025-04-28T22:15:24.680422700Z",
     "start_time": "2025-04-28T22:15:24.430949100Z"
    }
   },
   "id": "98b1c386ba78488d"
  },
  {
   "cell_type": "markdown",
   "source": [
    "# Skill Level"
   ],
   "metadata": {
    "collapsed": false
   },
   "id": "8b21ad5725dbd38a"
  },
  {
   "cell_type": "code",
   "execution_count": 80,
   "outputs": [
    {
     "data": {
      "text/plain": "['Advanced', 'Beginner', 'Intermediate']"
     },
     "execution_count": 80,
     "metadata": {},
     "output_type": "execute_result"
    }
   ],
   "source": [
    "skill_df = df['Skill Level']\n",
    "skill_df = skill_df.str.get_dummies()\n",
    "skill_df.columns.tolist()"
   ],
   "metadata": {
    "collapsed": false,
    "ExecuteTime": {
     "end_time": "2025-04-28T22:15:24.773655900Z",
     "start_time": "2025-04-28T22:15:24.459651600Z"
    }
   },
   "id": "8205bb9ddf97e0d2"
  },
  {
   "cell_type": "markdown",
   "source": [
    "# Merge DF"
   ],
   "metadata": {
    "collapsed": false
   },
   "id": "3861544919ff816d"
  },
  {
   "cell_type": "code",
   "execution_count": 81,
   "outputs": [],
   "source": [
    "exercises_name_df = df['Exercise Name']\n",
    "exercises_group_df = df['Exercise Group']\n",
    "exercises_body_pard_df = df['Body Part']"
   ],
   "metadata": {
    "collapsed": false,
    "ExecuteTime": {
     "end_time": "2025-04-28T22:15:24.815992600Z",
     "start_time": "2025-04-28T22:15:24.503870500Z"
    }
   },
   "id": "fa0fef048979a2d8"
  },
  {
   "cell_type": "code",
   "execution_count": 82,
   "outputs": [],
   "source": [
    "new_df = pd.concat([exercises_name_df, exercises_group_df, exercises_body_pard_df, skill_df, equip_df, muscles_df], axis=1)"
   ],
   "metadata": {
    "collapsed": false,
    "ExecuteTime": {
     "end_time": "2025-04-28T22:15:24.816900800Z",
     "start_time": "2025-04-28T22:15:24.521775200Z"
    }
   },
   "id": "66ba95611dcff2e6"
  },
  {
   "cell_type": "code",
   "execution_count": 83,
   "outputs": [
    {
     "data": {
      "text/plain": "                    Exercise Name Exercise Group Body Part  Advanced  \\\n0                    Lat Pulldown  Back - Cable       Back         0   \n1                 V-Grip Pulldown  Back - Cable       Back         0   \n2              Supinated Pulldown  Back - Cable       Back         0   \n3          Kneeling Rope Pulldown  Back - Cable       Back         0   \n4    Kneeling Single Arm Pulldown  Back - Cable       Back         0   \n..                            ...            ...       ...       ...   \n168                         Plank           Core      Core         0   \n169                Bicycle Crunch           Core      Core         0   \n170                 Russian Twist           Core      Core         0   \n171             Hanging Leg Raise           Core      Core         1   \n172             Cable Woodchopper           Core      Core         0   \n\n     Beginner  Intermediate  Bar Attachment  Barbell  Barbell or EZ Bar  \\\n0           1             0               0        0                  0   \n1           1             0               0        0                  0   \n2           1             0               0        0                  0   \n3           0             1               0        0                  0   \n4           0             1               0        0                  0   \n..        ...           ...             ...      ...                ...   \n168         1             0               0        0                  0   \n169         0             1               0        0                  0   \n170         0             1               0        0                  0   \n171         0             0               0        0                  0   \n172         0             1               0        0                  0   \n\n     Barbell with Rope  ...  TFL  Lower Back  Brachioradialis  Biceps Brachii  \\\n0                    0  ...    0           0                0               0   \n1                    0  ...    0           0                0               0   \n2                    0  ...    0           0                0               0   \n3                    0  ...    0           0                0               0   \n4                    0  ...    0           0                0               0   \n..                 ...  ...  ...         ...              ...             ...   \n168                  0  ...    0          10                0               0   \n169                  0  ...    0           0                0               0   \n170                  0  ...    0           0                0               0   \n171                  0  ...    0           0                0               0   \n172                  0  ...    0           0                0               0   \n\n     Wrist Extensors  Wrist Flexors  Rectus Abdominis  Transverse Abdominis  \\\n0                  0              0                 0                     0   \n1                  0              0                 0                     0   \n2                  0              0                 0                     0   \n3                  0              0                 0                     0   \n4                  0              0                 0                     0   \n..               ...            ...               ...                   ...   \n168                0              0                40                    30   \n169                0              0                35                     0   \n170                0              0                30                     0   \n171                0              0                50                     0   \n172                0              0                25                     0   \n\n     Obliques  Back  \n0           0     0  \n1           0     0  \n2           0     0  \n3           0     0  \n4           0     0  \n..        ...   ...  \n168        20     0  \n169        50     0  \n170        60     0  \n171        10     0  \n172        55    10  \n\n[173 rows x 114 columns]",
      "text/html": "<div>\n<style scoped>\n    .dataframe tbody tr th:only-of-type {\n        vertical-align: middle;\n    }\n\n    .dataframe tbody tr th {\n        vertical-align: top;\n    }\n\n    .dataframe thead th {\n        text-align: right;\n    }\n</style>\n<table border=\"1\" class=\"dataframe\">\n  <thead>\n    <tr style=\"text-align: right;\">\n      <th></th>\n      <th>Exercise Name</th>\n      <th>Exercise Group</th>\n      <th>Body Part</th>\n      <th>Advanced</th>\n      <th>Beginner</th>\n      <th>Intermediate</th>\n      <th>Bar Attachment</th>\n      <th>Barbell</th>\n      <th>Barbell or EZ Bar</th>\n      <th>Barbell with Rope</th>\n      <th>...</th>\n      <th>TFL</th>\n      <th>Lower Back</th>\n      <th>Brachioradialis</th>\n      <th>Biceps Brachii</th>\n      <th>Wrist Extensors</th>\n      <th>Wrist Flexors</th>\n      <th>Rectus Abdominis</th>\n      <th>Transverse Abdominis</th>\n      <th>Obliques</th>\n      <th>Back</th>\n    </tr>\n  </thead>\n  <tbody>\n    <tr>\n      <th>0</th>\n      <td>Lat Pulldown</td>\n      <td>Back - Cable</td>\n      <td>Back</td>\n      <td>0</td>\n      <td>1</td>\n      <td>0</td>\n      <td>0</td>\n      <td>0</td>\n      <td>0</td>\n      <td>0</td>\n      <td>...</td>\n      <td>0</td>\n      <td>0</td>\n      <td>0</td>\n      <td>0</td>\n      <td>0</td>\n      <td>0</td>\n      <td>0</td>\n      <td>0</td>\n      <td>0</td>\n      <td>0</td>\n    </tr>\n    <tr>\n      <th>1</th>\n      <td>V-Grip Pulldown</td>\n      <td>Back - Cable</td>\n      <td>Back</td>\n      <td>0</td>\n      <td>1</td>\n      <td>0</td>\n      <td>0</td>\n      <td>0</td>\n      <td>0</td>\n      <td>0</td>\n      <td>...</td>\n      <td>0</td>\n      <td>0</td>\n      <td>0</td>\n      <td>0</td>\n      <td>0</td>\n      <td>0</td>\n      <td>0</td>\n      <td>0</td>\n      <td>0</td>\n      <td>0</td>\n    </tr>\n    <tr>\n      <th>2</th>\n      <td>Supinated Pulldown</td>\n      <td>Back - Cable</td>\n      <td>Back</td>\n      <td>0</td>\n      <td>1</td>\n      <td>0</td>\n      <td>0</td>\n      <td>0</td>\n      <td>0</td>\n      <td>0</td>\n      <td>...</td>\n      <td>0</td>\n      <td>0</td>\n      <td>0</td>\n      <td>0</td>\n      <td>0</td>\n      <td>0</td>\n      <td>0</td>\n      <td>0</td>\n      <td>0</td>\n      <td>0</td>\n    </tr>\n    <tr>\n      <th>3</th>\n      <td>Kneeling Rope Pulldown</td>\n      <td>Back - Cable</td>\n      <td>Back</td>\n      <td>0</td>\n      <td>0</td>\n      <td>1</td>\n      <td>0</td>\n      <td>0</td>\n      <td>0</td>\n      <td>0</td>\n      <td>...</td>\n      <td>0</td>\n      <td>0</td>\n      <td>0</td>\n      <td>0</td>\n      <td>0</td>\n      <td>0</td>\n      <td>0</td>\n      <td>0</td>\n      <td>0</td>\n      <td>0</td>\n    </tr>\n    <tr>\n      <th>4</th>\n      <td>Kneeling Single Arm Pulldown</td>\n      <td>Back - Cable</td>\n      <td>Back</td>\n      <td>0</td>\n      <td>0</td>\n      <td>1</td>\n      <td>0</td>\n      <td>0</td>\n      <td>0</td>\n      <td>0</td>\n      <td>...</td>\n      <td>0</td>\n      <td>0</td>\n      <td>0</td>\n      <td>0</td>\n      <td>0</td>\n      <td>0</td>\n      <td>0</td>\n      <td>0</td>\n      <td>0</td>\n      <td>0</td>\n    </tr>\n    <tr>\n      <th>...</th>\n      <td>...</td>\n      <td>...</td>\n      <td>...</td>\n      <td>...</td>\n      <td>...</td>\n      <td>...</td>\n      <td>...</td>\n      <td>...</td>\n      <td>...</td>\n      <td>...</td>\n      <td>...</td>\n      <td>...</td>\n      <td>...</td>\n      <td>...</td>\n      <td>...</td>\n      <td>...</td>\n      <td>...</td>\n      <td>...</td>\n      <td>...</td>\n      <td>...</td>\n      <td>...</td>\n    </tr>\n    <tr>\n      <th>168</th>\n      <td>Plank</td>\n      <td>Core</td>\n      <td>Core</td>\n      <td>0</td>\n      <td>1</td>\n      <td>0</td>\n      <td>0</td>\n      <td>0</td>\n      <td>0</td>\n      <td>0</td>\n      <td>...</td>\n      <td>0</td>\n      <td>10</td>\n      <td>0</td>\n      <td>0</td>\n      <td>0</td>\n      <td>0</td>\n      <td>40</td>\n      <td>30</td>\n      <td>20</td>\n      <td>0</td>\n    </tr>\n    <tr>\n      <th>169</th>\n      <td>Bicycle Crunch</td>\n      <td>Core</td>\n      <td>Core</td>\n      <td>0</td>\n      <td>0</td>\n      <td>1</td>\n      <td>0</td>\n      <td>0</td>\n      <td>0</td>\n      <td>0</td>\n      <td>...</td>\n      <td>0</td>\n      <td>0</td>\n      <td>0</td>\n      <td>0</td>\n      <td>0</td>\n      <td>0</td>\n      <td>35</td>\n      <td>0</td>\n      <td>50</td>\n      <td>0</td>\n    </tr>\n    <tr>\n      <th>170</th>\n      <td>Russian Twist</td>\n      <td>Core</td>\n      <td>Core</td>\n      <td>0</td>\n      <td>0</td>\n      <td>1</td>\n      <td>0</td>\n      <td>0</td>\n      <td>0</td>\n      <td>0</td>\n      <td>...</td>\n      <td>0</td>\n      <td>0</td>\n      <td>0</td>\n      <td>0</td>\n      <td>0</td>\n      <td>0</td>\n      <td>30</td>\n      <td>0</td>\n      <td>60</td>\n      <td>0</td>\n    </tr>\n    <tr>\n      <th>171</th>\n      <td>Hanging Leg Raise</td>\n      <td>Core</td>\n      <td>Core</td>\n      <td>1</td>\n      <td>0</td>\n      <td>0</td>\n      <td>0</td>\n      <td>0</td>\n      <td>0</td>\n      <td>0</td>\n      <td>...</td>\n      <td>0</td>\n      <td>0</td>\n      <td>0</td>\n      <td>0</td>\n      <td>0</td>\n      <td>0</td>\n      <td>50</td>\n      <td>0</td>\n      <td>10</td>\n      <td>0</td>\n    </tr>\n    <tr>\n      <th>172</th>\n      <td>Cable Woodchopper</td>\n      <td>Core</td>\n      <td>Core</td>\n      <td>0</td>\n      <td>0</td>\n      <td>1</td>\n      <td>0</td>\n      <td>0</td>\n      <td>0</td>\n      <td>0</td>\n      <td>...</td>\n      <td>0</td>\n      <td>0</td>\n      <td>0</td>\n      <td>0</td>\n      <td>0</td>\n      <td>0</td>\n      <td>25</td>\n      <td>0</td>\n      <td>55</td>\n      <td>10</td>\n    </tr>\n  </tbody>\n</table>\n<p>173 rows × 114 columns</p>\n</div>"
     },
     "execution_count": 83,
     "metadata": {},
     "output_type": "execute_result"
    }
   ],
   "source": [
    "new_df"
   ],
   "metadata": {
    "collapsed": false,
    "ExecuteTime": {
     "end_time": "2025-04-28T22:15:25.049767500Z",
     "start_time": "2025-04-28T22:15:24.535220700Z"
    }
   },
   "id": "91661951e4be318a"
  },
  {
   "cell_type": "code",
   "execution_count": 84,
   "outputs": [
    {
     "data": {
      "text/plain": "\"                                              Exercise Name             Exercise Group  Body Part\\n0                                              Lat Pulldown              Back - Cable        Back\\n1                                           V-Grip Pulldown              Back - Cable        Back\\n2                                        Supinated Pulldown              Back - Cable        Back\\n3                                    Kneeling Rope Pulldown              Back - Cable        Back\\n4                              Kneeling Single Arm Pulldown              Back - Cable        Back\\n5                 Incline Bench Unilateral Row (High Cable)              Back - Cable        Back\\n6                  Incline Bench Unilateral Row (Mid Cable)              Back - Cable        Back\\n7                  Incline Bench Unilateral Row (Low Cable)              Back - Cable        Back\\n8              Incline Bench Reverse Facing V-Grip Pulldown              Back - Cable        Back\\n9                                Incline Bench Lat Pullover              Back - Cable        Back\\n10           Incline Bench Chest Supported Low Lat Rope Row              Back - Cable        Back\\n11   Incline Bench Chest Supported Upper Back Rope High Row              Back - Cable        Back\\n12                        Seated Lat Bar Stretch Biased Row              Back - Cable        Back\\n13                                       Seated Lat Bar Row              Back - Cable        Back\\n14                                        Seated V-Grip Row              Back - Cable        Back\\n15                              Seated Single Arm Cable Row              Back - Cable        Back\\n16             Kneeling Single Arm Cable Row (Low Position)              Back - Cable        Back\\n17                               Standing Rope Lat Pullover              Back - Cable        Back\\n18                             Standing V-Grip Lat Pullover              Back - Cable        Back\\n19                                     Crossover Cable Pull              Back - Cable        Back\\n20                                           Rope High Pull              Back - Cable        Back\\n21                              Reverse Cable Rear Delt Fly              Back - Cable        Back\\n22                                Dual DB Incline Bench Row                  Back - DB       Back\\n23                                        Single Arm DB Row                  Back - DB       Back\\n24                                Deficit Single Arm DB Row                  Back - DB       Back\\n25                                              DB Pullover                  Back - DB       Back\\n26                                      Dual DB Deficit Row                  Back - DB       Back\\n27                               Deficit BB Row (Supinated)             Back - Barbell       Back\\n28                                Deficit BB Row (Pronated)             Back - Barbell       Back\\n29                              Chest Supported Barbell Row             Back - Barbell       Back\\n30                                                T Bar Row             Back - Barbell       Back\\n31                          Inverted Bodyweight Row (Smith)       Back - Smith Machine       Back\\n32                                Chest Supported Smith Row       Back - Smith Machine       Back\\n33                                        Deficit Smith Row       Back - Smith Machine       Back\\n34                                     Plate Loaded Low Row             Back - Machine       Back\\n35                        Plate Loaded Low Row (Unilateral)             Back - Machine       Back\\n36                                     Plate Loaded Mid Row             Back - Machine       Back\\n37                        Plate Loaded Mid Row (Unilateral)             Back - Machine       Back\\n38                                    Plate Loaded Pulldown             Back - Machine       Back\\n39                       Plate Loaded Pulldown (Unilateral)             Back - Machine       Back\\n40                         Plate Loaded Chest Supported Row             Back - Machine       Back\\n41                                          Incline DB Flys                 Chest - DB      Chest\\n42                                           Decline DB Fly                 Chest - DB      Chest\\n43                                              Flat DB Fly                 Chest - DB      Chest\\n44                                         Incline DB Press                 Chest - DB      Chest\\n45                                            Flat DB Press                 Chest - DB      Chest\\n46                         Incline Bench Cable Stretch Flys              Chest - Cable      Chest\\n47                      Bench Supported Cable Supinated Fly              Chest - Cable      Chest\\n48                    Upper Chest Bench Supported Cable Fly              Chest - Cable      Chest\\n49                            Bench Supported Cable Presses              Chest - Cable      Chest\\n50              Upper Chest Alternating Bench Supported Fly              Chest - Cable      Chest\\n51                     Mid Chest Staggered Stance Cable Fly              Chest - Cable      Chest\\n52                                       Downward Cable Fly              Chest - Cable      Chest\\n53                         90 Degree Downward Cable Presses              Chest - Cable      Chest\\n54                        Upper Alternating Chest Cable Fly              Chest - Cable      Chest\\n55                             Kneeling Supinated Cable Fly              Chest - Cable      Chest\\n56                                     Dips (Chest Focused)         Chest - Bodyweight      Chest\\n57                                          Deficit Pushups         Chest - Bodyweight      Chest\\n58                                 Flat Smith Machine Press      Chest - Smith Machine      Chest\\n59                              Incline Smith Machine Press      Chest - Smith Machine      Chest\\n60                                              Bench Press            Chest - Barbell      Chest\\n61                                      Incline Bench Press            Chest - Barbell      Chest\\n62                                  Plate Loaded Flat Press            Chest - Machine      Chest\\n63                               Plate Loaded Decline Press            Chest - Machine      Chest\\n64                               Plate Loaded Incline Press            Chest - Machine      Chest\\n65                                              Machine Fly            Chest - Machine      Chest\\n66                         Stretch Biased Machine Chest Fly            Chest - Machine      Chest\\n67                             Cross Body Machine Chest Fly            Chest - Machine      Chest\\n68                            Upper Chest Machine Chest Fly            Chest - Machine      Chest\\n69                                  Cable Lat Bar Pushdowns             Tricep - Cable    Triceps\\n70                                     Cable Rope Pushdowns             Tricep - Cable    Triceps\\n71                                   Cable V-Grip Pushdowns             Tricep - Cable    Triceps\\n72                                  Incline Bench Pushdowns             Tricep - Cable    Triceps\\n73                  Incline Bench Cable Overhead Extensions             Tricep - Cable    Triceps\\n74                                      Crossover Kickbacks             Tricep - Cable    Triceps\\n75                          Single Arm Cross Body Extension             Tricep - Cable    Triceps\\n76                                           Cable Kickback             Tricep - Cable    Triceps\\n77                         Kneeling Overhead Rope Extension             Tricep - Cable    Triceps\\n78                                    DB Overhead Extension                Tricep - DB    Triceps\\n79                            DB Incline Overhead Extension                Tricep - DB    Triceps\\n80                                    Close Grip DB Presses                Tricep - DB    Triceps\\n81                              Deficit Narrow Grip Pushups        Tricep - Bodyweight    Triceps\\n82                                     Dips (Tricep Biased)        Tricep - Bodyweight    Triceps\\n83                      Smith Machine Bodyweight Extensions             Tricep - Smith    Triceps\\n84                                               JM Presses             Tricep - Smith    Triceps\\n85                                   Close Grip Smith Bench           Tricep - Barbell    Triceps\\n86                                 Machine Tricep Pushdowns           Tricep - Machine    Triceps\\n87                       Machine Tricep Overhead Extensions           Tricep - Machine    Triceps\\n88                                            BB Bicep Curl            Bicep - Barbell     Biceps\\n89                                           Preacher Curls            Bicep - Barbell     Biceps\\n90                                                Drag Curl            Bicep - Barbell     Biceps\\n91                                              Spider Curl            Bicep - Barbell     Biceps\\n92                                             Hammer Curls                 Bicep - DB     Biceps\\n93                                      Concentration Curls                 Bicep - DB     Biceps\\n94                                   Incline Dumbbell Curls                 Bicep - DB     Biceps\\n95                                     Seated Zottoman Curl                 Bicep - DB     Biceps\\n96                                   Incline Bench Iso Curl                 Bicep - DB     Biceps\\n97                                     Hammer Preacher Curl                 Bicep - DB     Biceps\\n98                        Side Facing Preacher Hammer Curls                 Bicep - DB     Biceps\\n99                     Side Facing Preacher Supinated Curls                 Bicep - DB     Biceps\\n100                                Standing Bar Cable Curls              Bicep - Cable     Biceps\\n101                                         Cable Drag Curl              Bicep - Cable     Biceps\\n102                                              Lying Curl              Bicep - Cable     Biceps\\n103                     Incline Bench Single Arm Cable Curl              Bicep - Cable     Biceps\\n104                       Incline Bench Stretch Biased Curl              Bicep - Cable     Biceps\\n105                   Incline Bench Contraction Biased Curl              Bicep - Cable     Biceps\\n106                                   Rope Cable Bicep Curl              Bicep - Cable     Biceps\\n107                                                Chin-Ups        Bicep - Bodyweight      Biceps\\n108                                           Machine Curls            Bicep - Machine     Biceps\\n109                                DB Seated Lateral Raises             Shoulders - DB  Shoulders\\n110                                      DB Full ROM Raises             Shoulders - DB  Shoulders\\n111                             DB Alternating Front Raises             Shoulders - DB  Shoulders\\n112                                     DB Shoulder Presses             Shoulders - DB  Shoulders\\n113                      DB Rear Delt Fly (Chest Supported)             Shoulders - DB  Shoulders\\n114                                     BB Shoulder Presses             Shoulders - BB  Shoulders\\n115                                          BB Upright Row             Shoulders - BB  Shoulders\\n116                          Smith Machine Shoulder Presses  Shoulders - Smith Machine  Shoulders\\n117                               Smith Machine Upright Row  Shoulders - Smith Machine  Shoulders\\n118                            Cable Incline Bench Y-Raises         Shoulders - Cables  Shoulders\\n119                 Incline Bench Front Facing Cable Raises         Shoulders - Cables  Shoulders\\n120                         Flat Bench Cable Lateral Raises         Shoulders - Cables  Shoulders\\n121                          Cable Crossover Lateral Raises         Shoulders - Cables  Shoulders\\n122                    Cable Rope Incline Bench Upright Row         Shoulders - Cables  Shoulders\\n123                        Cable Incline Bench Front Raises         Shoulders - Cables  Shoulders\\n124                                 Lying Cable Front Raise         Shoulders - Cables  Shoulders\\n125                         Unilateral Cable Lateral Raises         Shoulders - Cables  Shoulders\\n126  Unilateral Cable Rear Delts Stretch-Biased Reverse Fly         Shoulders - Cables  Shoulders\\n127                                      V-Grip Upright Row         Shoulders - Cables  Shoulders\\n128                               Crossover Cable High Pull         Shoulders - Cables  Shoulders\\n129                                 Cable Rope Front Raises         Shoulders - Cables  Shoulders\\n130                                   Machine Lateral Raise        Shoulders - Machine  Shoulders\\n131           Machine Single Arm Reverse Fly (Stretch Bias)        Shoulders - Machine  Shoulders\\n132                                           Machine Press        Shoulders - Machine  Shoulders\\n133                                               Leg Press             Legs - Machine       Legs\\n134                Low Foot Placement Quad Biased Leg Press             Legs - Machine       Legs\\n135                                   Leg Press Calf Raises             Legs - Machine       Legs\\n136                                              Hack Squat             Legs - Machine       Legs\\n137               Low Foot Placement Quad Biased Hack Squat             Legs - Machine       Legs\\n138                                          Pendulum Squat             Legs - Machine       Legs\\n139                                             Super Squat             Legs - Machine       Legs\\n140            Stretch Biased Quad Extensions (Foam Roller)             Legs - Machine       Legs\\n141                    Stretch Biased Lying Hamstring Curls             Legs - Machine       Legs\\n142                   Stretch Biased Seated Hamstring Curls             Legs - Machine       Legs\\n143                               Seated Calf Raise Machine             Legs - Machine       Legs\\n144                             Standing Calf Raise Machine             Legs - Machine       Legs\\n145                                      Donkey Calf Raises             Legs - Machine       Legs\\n146                                   Hip Adduction Machine             Legs - Machine       Legs\\n147                                   Hip Abduction Machine             Legs - Machine       Legs\\n148                                    Glute Bridge Machine             Legs - Machine       Legs\\n149                                     GHD (Glute Focused)             Legs - Machine       Legs\\n150                                 GHD (Hamstring Focused)             Legs - Machine       Legs\\n151                                      Deficit Belt Squat             Legs - Machine       Legs\\n152                                        V-Grip Cable RDL             Legs - Machine       Legs\\n153                                          Glute Kickback             Legs - Machine       Legs\\n154                   Deficit Bulgarian Split Squat (Smith)       Legs - Smith Machine       Legs\\n155                Narrow Heel Elevated Smith Machine Squat       Legs - Smith Machine       Legs\\n156                               Smith Machine Deficit RDL       Legs - Smith Machine       Legs\\n157                                                   Squat             Legs - Barbell       Legs\\n158                                             Deficit RDL             Legs - Barbell       Legs\\n159                       Deficit Bulgarian DB Split Squats                  Legs - DB       Legs\\n160                                            Goblet Squat                  Legs - DB       Legs\\n161                                      Deficit Sumo Squat                  Legs - DB       Legs\\n162                                  Barbell Supported RDLs                  Legs - DB       Legs\\n163                                    Barbell Reverse Curl                  Forearms    Forearms\\n164                             Cable cuffed braichial curl                  Forearms    Forearms\\n165                                           Farmer's Walk                  Forearms    Forearms\\n166                                            Wrist Roller                  Forearms    Forearms\\n167                                           Towel DB curl                  Forearms    Forearms\\n168                                                   Plank                       Core       Core\\n169                                          Bicycle Crunch                       Core       Core\\n170                                           Russian Twist                       Core       Core\\n171                                       Hanging Leg Raise                       Core       Core\\n172                                       Cable Woodchopper                       Core       Core\""
     },
     "execution_count": 84,
     "metadata": {},
     "output_type": "execute_result"
    }
   ],
   "source": [
    "columns = [\"Exercise Name\", \"Exercise Group\", \"Body Part\"]\n",
    "nn_df = new_df[columns]\n",
    "nn_df.to_string()"
   ],
   "metadata": {
    "collapsed": false,
    "ExecuteTime": {
     "end_time": "2025-04-28T22:15:25.091186600Z",
     "start_time": "2025-04-28T22:15:24.581054200Z"
    }
   },
   "id": "df2783c6d94424d5"
  },
  {
   "cell_type": "code",
   "execution_count": 84,
   "outputs": [],
   "source": [],
   "metadata": {
    "collapsed": false,
    "ExecuteTime": {
     "end_time": "2025-04-28T22:15:25.169846500Z",
     "start_time": "2025-04-28T22:15:24.627553600Z"
    }
   },
   "id": "9bbad209d49c66fb"
  }
 ],
 "metadata": {
  "kernelspec": {
   "display_name": "Python 3",
   "language": "python",
   "name": "python3"
  },
  "language_info": {
   "codemirror_mode": {
    "name": "ipython",
    "version": 2
   },
   "file_extension": ".py",
   "mimetype": "text/x-python",
   "name": "python",
   "nbconvert_exporter": "python",
   "pygments_lexer": "ipython2",
   "version": "2.7.6"
  }
 },
 "nbformat": 4,
 "nbformat_minor": 5
}
